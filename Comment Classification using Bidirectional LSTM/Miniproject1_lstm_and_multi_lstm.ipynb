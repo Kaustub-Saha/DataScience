{
 "cells": [
  {
   "cell_type": "code",
   "execution_count": 1,
   "metadata": {
    "id": "mk6J9JtFCfzO"
   },
   "outputs": [],
   "source": [
    "import sys, os, re, csv, codecs, numpy as np, pandas as pd\n",
    "import matplotlib.pyplot as plt\n",
    "%matplotlib inline\n",
    "from keras.preprocessing.text import Tokenizer\n",
    "from keras.preprocessing.sequence import pad_sequences\n",
    "from keras.layers import Dense, Input, LSTM, Embedding, Dropout, Activation\n",
    "from keras.layers import CuDNNLSTM, CuDNNGRU\n",
    "from keras.layers import Bidirectional, GlobalMaxPool1D\n",
    "from keras.models import Model\n",
    "#from keras import initializers, regularizers, constraints, optimizers, layers\n",
    "import matplotlib.pyplot as plt\n",
    "%matplotlib inline\n",
    "import gensim.models.keyedvectors as word2vec\n",
    "import pandas as pd\n",
    "import gc\n",
    "import gensim\n",
    "from keras.wrappers.scikit_learn import KerasClassifier\n",
    "from sklearn.model_selection import GridSearchCV\n",
    "from keras.layers import GRU\n",
    "from sklearn.metrics import confusion_matrix, accuracy_score, classification_report, f1_score"
   ]
  },
  {
   "cell_type": "code",
   "execution_count": 3,
   "metadata": {
    "colab": {
     "base_uri": "https://localhost:8080/"
    },
    "id": "rlNQWWmECqh9",
    "outputId": "566bb588-1a66-431e-faf2-0fbe3b5fd171"
   },
   "outputs": [
    {
     "name": "stdout",
     "output_type": "stream",
     "text": [
      "Mounted at /content/drive\n"
     ]
    }
   ],
   "source": [
    "from google.colab import drive\n",
    "#This command mounts the drive in /content/drive location.\n",
    "#On execution it produces a link and subsequently an authentication code\n",
    "drive.mount('/content/drive')"
   ]
  },
  {
   "cell_type": "markdown",
   "metadata": {
    "id": "sxKoPnAVAJ0O"
   },
   "source": [
    "Loading training data and test data"
   ]
  },
  {
   "cell_type": "code",
   "execution_count": 4,
   "metadata": {
    "id": "Cy-l3n3qCwER"
   },
   "outputs": [],
   "source": [
    "from google.colab import files\n",
    "import pandas as pd\n",
    "import io\n",
    "#uploaded = files.upload()\n",
    "dataset = pd.read_csv(\"/content/drive/My Drive/Hadoop/mini_project1/train.csv\")\n",
    "test = pd.read_csv(\"/content/drive/My Drive/Hadoop/mini_project1/test.csv\")"
   ]
  },
  {
   "cell_type": "markdown",
   "metadata": {
    "id": "7wHN6S0LAM4B"
   },
   "source": [
    "Loading testing labels data"
   ]
  },
  {
   "cell_type": "code",
   "execution_count": 5,
   "metadata": {
    "colab": {
     "base_uri": "https://localhost:8080/"
    },
    "id": "sdL3PlCdKajc",
    "outputId": "5c1018bd-9e14-4fae-8d1c-cfe721904a16"
   },
   "outputs": [
    {
     "name": "stdout",
     "output_type": "stream",
     "text": [
      "        toxic  severe_toxic  obscene  threat  insult  identity_hate\n",
      "0          -1            -1       -1      -1      -1             -1\n",
      "1          -1            -1       -1      -1      -1             -1\n",
      "2          -1            -1       -1      -1      -1             -1\n",
      "3          -1            -1       -1      -1      -1             -1\n",
      "4          -1            -1       -1      -1      -1             -1\n",
      "...       ...           ...      ...     ...     ...            ...\n",
      "153159     -1            -1       -1      -1      -1             -1\n",
      "153160     -1            -1       -1      -1      -1             -1\n",
      "153161     -1            -1       -1      -1      -1             -1\n",
      "153162     -1            -1       -1      -1      -1             -1\n",
      "153163     -1            -1       -1      -1      -1             -1\n",
      "\n",
      "[153164 rows x 6 columns]\n"
     ]
    }
   ],
   "source": [
    "test_labelss = pd.read_csv(\"/content/drive/My Drive/Hadoop/mini_project1/test_labels.csv\")\n",
    "test_labelss.drop('id',axis=1,inplace=True)\n",
    "print(test_labelss)"
   ]
  },
  {
   "cell_type": "markdown",
   "metadata": {
    "id": "G0tOubtaARVY"
   },
   "source": [
    "segregating comments and labels"
   ]
  },
  {
   "cell_type": "code",
   "execution_count": 6,
   "metadata": {
    "colab": {
     "base_uri": "https://localhost:8080/"
    },
    "id": "idPn-luODnpP",
    "outputId": "787da668-dc76-4727-c50f-317db5d7f77b"
   },
   "outputs": [
    {
     "name": "stdout",
     "output_type": "stream",
     "text": [
      "[\"Explanation\\nWhy the edits made under my username Hardcore Metallica Fan were reverted? They weren't vandalisms, just closure on some GAs after I voted at New York Dolls FAC. And please don't remove the template from the talk page since I'm retired now.89.205.38.27\"\n",
      " \"D'aww! He matches this background colour I'm seemingly stuck with. Thanks.  (talk) 21:51, January 11, 2016 (UTC)\"\n",
      " \"Hey man, I'm really not trying to edit war. It's just that this guy is constantly removing relevant information and talking to me through edits instead of my talk page. He seems to care more about the formatting than the actual info.\"\n",
      " ...\n",
      " 'Spitzer \\n\\nUmm, theres no actual article for prostitution ring.  - Crunch Captain.'\n",
      " 'And it looks like it was actually you who put on the speedy to have the first version deleted now that I look at it.'\n",
      " '\"\\nAnd ... I really don\\'t think you understand.  I came here and my idea was bad right away.  What kind of community goes \"\"you have bad ideas\"\" go away, instead of helping rewrite them.   \"']\n",
      "[[0 0 0 0 0 0]\n",
      " [0 0 0 0 0 0]\n",
      " [0 0 0 0 0 0]\n",
      " ...\n",
      " [0 0 0 0 0 0]\n",
      " [0 0 0 0 0 0]\n",
      " [0 0 0 0 0 0]]\n"
     ]
    }
   ],
   "source": [
    "sentiment = dataset['comment_text'].values\n",
    "y_list = [\"toxic\",\"severe_toxic\", \"obscene\", \"threat\", \"insult\", \"identity_hate\"]\n",
    "y = dataset[y_list].values\n",
    "print(sentiment)\n",
    "print(y)"
   ]
  },
  {
   "cell_type": "markdown",
   "metadata": {
    "id": "CtSLivibAU3H"
   },
   "source": [
    "Tokenizing the words with maximum number of words taken into consideration = 20000"
   ]
  },
  {
   "cell_type": "code",
   "execution_count": 7,
   "metadata": {
    "id": "6pEKz8GGDxCp"
   },
   "outputs": [],
   "source": [
    "from keras.preprocessing.text import Tokenizer\n",
    "tokenizer = Tokenizer(num_words=20000)\n",
    "tokenizer.fit_on_texts(list(sentiment))"
   ]
  },
  {
   "cell_type": "markdown",
   "metadata": {
    "id": "URgrD9thAYtm"
   },
   "source": [
    "Padding the data"
   ]
  },
  {
   "cell_type": "code",
   "execution_count": 8,
   "metadata": {
    "id": "BwoZT_3ZERbh"
   },
   "outputs": [],
   "source": [
    "from keras.preprocessing import text, sequence\n",
    "\n",
    "seq = tokenizer.texts_to_sequences(sentiment)\n",
    "pad = sequence.pad_sequences(seq, maxlen=700)"
   ]
  },
  {
   "cell_type": "markdown",
   "metadata": {
    "id": "NJlfs9UQAj9k"
   },
   "source": [
    "Tokenizing and padding the test data"
   ]
  },
  {
   "cell_type": "code",
   "execution_count": 9,
   "metadata": {
    "id": "LyVqFmbSED6a"
   },
   "outputs": [],
   "source": [
    "test = test['comment_text'].values\n",
    "test_seq = tokenizer.texts_to_sequences(test)\n",
    "test_pad = sequence.pad_sequences(test_seq, maxlen=700)"
   ]
  },
  {
   "cell_type": "markdown",
   "metadata": {
    "id": "wkytQsE997QY"
   },
   "source": [
    "This is Bidirectional LSTM, this model is overfitting using 10 epochs. There is another model with lesser epochs in another IPYNB file attached with the assignment"
   ]
  },
  {
   "cell_type": "code",
   "execution_count": 10,
   "metadata": {
    "id": "RfYHY_3JFRtA"
   },
   "outputs": [],
   "source": [
    "from keras.layers import Dense, Input, LSTM, Embedding, Dropout, Activation\n",
    "from keras.layers import Bidirectional, GlobalMaxPool1D\n",
    "from keras.models import Model\n",
    "from keras import initializers, regularizers, constraints, optimizers, layers\n",
    "\n",
    "\n",
    "def model_add_lstm(embedding_dim,hidden_layer):\n",
    "    inputs = Input(shape=(700, ))\n",
    "    x = Embedding(20000, embedding_dim)(inputs)\n",
    "    x = Bidirectional(LSTM(hidden_layer))(x)\n",
    "    #x = Dropout(0.1)(x)\n",
    "    #x = Dense(hidden_layer, activation=\"relu\")(x)\n",
    "    x = Dropout(0.1)(x)\n",
    "    outputs = Dense(6, activation=\"sigmoid\")(x)\n",
    "    model = Model(inputs=inputs, outputs=outputs)\n",
    "    model.compile(loss='binary_crossentropy',\n",
    "                  optimizer='adam',\n",
    "                  metrics=['accuracy'])\n",
    "    #model = model_add(embedding_dim,hidden_layer)\n",
    "    #print(model.summary())\n",
    "    return model\n"
   ]
  },
  {
   "cell_type": "markdown",
   "metadata": {
    "id": "DEUBqxrMAuO4"
   },
   "source": [
    "This model uses embedding dimensions = 10, length of sequence = 700, hidden layer = 128"
   ]
  },
  {
   "cell_type": "code",
   "execution_count": null,
   "metadata": {
    "colab": {
     "base_uri": "https://localhost:8080/"
    },
    "id": "t-6d4vKY9FLZ",
    "outputId": "6129b106-bb21-4f05-bda7-a0c72dc69904"
   },
   "outputs": [
    {
     "name": "stdout",
     "output_type": "stream",
     "text": [
      "Model: \"model_1\"\n",
      "_________________________________________________________________\n",
      " Layer (type)                Output Shape              Param #   \n",
      "=================================================================\n",
      " input_2 (InputLayer)        [(None, 700)]             0         \n",
      "                                                                 \n",
      " embedding_1 (Embedding)     (None, 700, 10)           200000    \n",
      "                                                                 \n",
      " bidirectional_1 (Bidirectio  (None, 256)              142336    \n",
      " nal)                                                            \n",
      "                                                                 \n",
      " dropout_1 (Dropout)         (None, 256)               0         \n",
      "                                                                 \n",
      " dense_1 (Dense)             (None, 6)                 1542      \n",
      "                                                                 \n",
      "=================================================================\n",
      "Total params: 343,878\n",
      "Trainable params: 343,878\n",
      "Non-trainable params: 0\n",
      "_________________________________________________________________\n",
      "None\n"
     ]
    }
   ],
   "source": [
    "embedding_dim,hidden_layer = 10,128\n",
    "model = model_add_lstm(embedding_dim,hidden_layer)\n",
    "print(model.summary())"
   ]
  },
  {
   "cell_type": "code",
   "execution_count": null,
   "metadata": {
    "colab": {
     "base_uri": "https://localhost:8080/"
    },
    "id": "yvrBlHb0Fc4c",
    "outputId": "608884d6-79fd-47ac-b939-268de310ad6d"
   },
   "outputs": [
    {
     "name": "stdout",
     "output_type": "stream",
     "text": [
      "Epoch 1/10\n",
      "14362/14362 [==============================] - 733s 51ms/step - loss: 0.0476 - accuracy: 0.9941 - val_loss: 0.0494 - val_accuracy: 0.9940\n",
      "Epoch 2/10\n",
      "14362/14362 [==============================] - 725s 51ms/step - loss: 0.0438 - accuracy: 0.9938 - val_loss: 0.0481 - val_accuracy: 0.9940\n",
      "Epoch 3/10\n",
      "14362/14362 [==============================] - 724s 50ms/step - loss: 0.0416 - accuracy: 0.9906 - val_loss: 0.0474 - val_accuracy: 0.9938\n",
      "Epoch 4/10\n",
      "14362/14362 [==============================] - 724s 50ms/step - loss: 0.0394 - accuracy: 0.9925 - val_loss: 0.0466 - val_accuracy: 0.9938\n",
      "Epoch 5/10\n",
      "14362/14362 [==============================] - 725s 51ms/step - loss: 0.0375 - accuracy: 0.9922 - val_loss: 0.0482 - val_accuracy: 0.9937\n",
      "Epoch 6/10\n",
      "14362/14362 [==============================] - 725s 50ms/step - loss: 0.0356 - accuracy: 0.9921 - val_loss: 0.0486 - val_accuracy: 0.9932\n",
      "Epoch 7/10\n",
      "14362/14362 [==============================] - 725s 50ms/step - loss: 0.0336 - accuracy: 0.9885 - val_loss: 0.0510 - val_accuracy: 0.9897\n",
      "Epoch 8/10\n",
      "14362/14362 [==============================] - 725s 50ms/step - loss: 0.0317 - accuracy: 0.9812 - val_loss: 0.0497 - val_accuracy: 0.9925\n",
      "Epoch 9/10\n",
      "14362/14362 [==============================] - 727s 51ms/step - loss: 0.0300 - accuracy: 0.9629 - val_loss: 0.0524 - val_accuracy: 0.9685\n",
      "Epoch 10/10\n",
      "14362/14362 [==============================] - 727s 51ms/step - loss: 0.0279 - accuracy: 0.9442 - val_loss: 0.0560 - val_accuracy: 0.9887\n"
     ]
    }
   ],
   "source": [
    "from keras.callbacks import EarlyStopping, ModelCheckpoint\n",
    "early = EarlyStopping(monitor=\"val_loss\", mode=\"min\", patience=20)\n",
    "res = model.fit(pad, y, batch_size=10, epochs=10, validation_split=0.1, callbacks=early)"
   ]
  },
  {
   "cell_type": "code",
   "execution_count": null,
   "metadata": {
    "id": "-d02L0a5DNu2"
   },
   "outputs": [],
   "source": [
    "pad.shape"
   ]
  },
  {
   "cell_type": "code",
   "execution_count": null,
   "metadata": {
    "id": "g8LBk-2i8qhC"
   },
   "outputs": [],
   "source": [
    "y_pred_lstm = model.predict(test_pad)"
   ]
  },
  {
   "cell_type": "code",
   "execution_count": null,
   "metadata": {
    "id": "K4eTjarqIn8p"
   },
   "outputs": [],
   "source": [
    "y_list = [\"toxic\",\"severe_toxic\", \"obscene\", \"threat\", \"insult\", \"identity_hate\"]\n",
    "ref_labels = test_labelss[y_list].values"
   ]
  },
  {
   "cell_type": "code",
   "execution_count": null,
   "metadata": {
    "colab": {
     "base_uri": "https://localhost:8080/"
    },
    "id": "uEL4UlFmBEgd",
    "outputId": "78aae5da-6c5a-40ff-99e5-25466d155385"
   },
   "outputs": [
    {
     "name": "stdout",
     "output_type": "stream",
     "text": [
      "Test loss: -5.333376884460449\n",
      "Test accuracy: 0.9865503907203674\n"
     ]
    }
   ],
   "source": [
    "scores_lstm = model.evaluate(test_pad,ref_labels, verbose=0)\n",
    "print('Test loss:', scores_lstm[0])\n",
    "print('Test accuracy:', scores_lstm[1])"
   ]
  },
  {
   "cell_type": "code",
   "execution_count": null,
   "metadata": {
    "id": "JiMm9E5Y8ruP"
   },
   "outputs": [],
   "source": []
  },
  {
   "cell_type": "markdown",
   "metadata": {
    "id": "UgJxlf-z9qOe"
   },
   "source": [
    "Bidirectional Multiple LSTM"
   ]
  },
  {
   "cell_type": "code",
   "execution_count": null,
   "metadata": {
    "id": "CSm6hn6slIXy"
   },
   "outputs": [],
   "source": [
    "def model_add_multi(embedding_dim,hidden_layer):\n",
    "    inputs = Input(shape=(700, ))\n",
    "    x = Embedding(20000, embedding_dim)(inputs)\n",
    "    x = Bidirectional(LSTM(hidden_layer, return_sequences = True))(x)\n",
    "    x = Bidirectional(LSTM(hidden_layer))(x)\n",
    "    x = Dropout(0.1)(x)\n",
    "    outputs = Dense(6, activation=\"sigmoid\")(x)\n",
    "    model = Model(inputs=inputs, outputs=outputs)\n",
    "    model.compile(loss='binary_crossentropy',\n",
    "                  optimizer='adam',\n",
    "                  metrics=['accuracy'])\n",
    "    #model = model_add(embedding_dim,hidden_layer)\n",
    "    #print(model.summary())\n",
    "    return model"
   ]
  },
  {
   "cell_type": "code",
   "execution_count": 17,
   "metadata": {
    "colab": {
     "base_uri": "https://localhost:8080/"
    },
    "id": "hb8B1w0al4XQ",
    "outputId": "048ede97-5ca8-4cb0-dd24-8cd93d8e26d5"
   },
   "outputs": [
    {
     "name": "stdout",
     "output_type": "stream",
     "text": [
      "Model: \"model_1\"\n",
      "_________________________________________________________________\n",
      " Layer (type)                Output Shape              Param #   \n",
      "=================================================================\n",
      " input_3 (InputLayer)        [(None, 700)]             0         \n",
      "                                                                 \n",
      " embedding_2 (Embedding)     (None, 700, 10)           200000    \n",
      "                                                                 \n",
      " bidirectional_4 (Bidirectio  (None, 700, 128)         38400     \n",
      " nal)                                                            \n",
      "                                                                 \n",
      " bidirectional_5 (Bidirectio  (None, 128)              98816     \n",
      " nal)                                                            \n",
      "                                                                 \n",
      " dropout_1 (Dropout)         (None, 128)               0         \n",
      "                                                                 \n",
      " dense_1 (Dense)             (None, 6)                 774       \n",
      "                                                                 \n",
      "=================================================================\n",
      "Total params: 337,990\n",
      "Trainable params: 337,990\n",
      "Non-trainable params: 0\n",
      "_________________________________________________________________\n",
      "None\n"
     ]
    }
   ],
   "source": [
    "embedding_dim,hidden_layer = 10,64\n",
    "model_multi = model_add_multi(embedding_dim,hidden_layer)\n",
    "print(model_multi.summary())"
   ]
  },
  {
   "cell_type": "markdown",
   "metadata": {
    "id": "yFBIEZHbBALf"
   },
   "source": [
    "This model uses maximum length = 700, embedding dimension = 10, first hidden layer = 64, second hidden layer = 64"
   ]
  },
  {
   "cell_type": "code",
   "execution_count": 18,
   "metadata": {
    "colab": {
     "base_uri": "https://localhost:8080/"
    },
    "id": "aPZbla5V8sYD",
    "outputId": "308f4b16-bfc3-4a74-8cb9-04447b7c2c88"
   },
   "outputs": [
    {
     "name": "stdout",
     "output_type": "stream",
     "text": [
      "Epoch 1/6\n",
      "2244/2244 [==============================] - 834s 362ms/step - loss: 0.0825 - accuracy: 0.9523 - val_loss: 0.0543 - val_accuracy: 0.9940\n",
      "Epoch 2/6\n",
      "2244/2244 [==============================] - 812s 362ms/step - loss: 0.0485 - accuracy: 0.9941 - val_loss: 0.0496 - val_accuracy: 0.9939\n",
      "Epoch 3/6\n",
      "2244/2244 [==============================] - 809s 361ms/step - loss: 0.0450 - accuracy: 0.9941 - val_loss: 0.0499 - val_accuracy: 0.9940\n",
      "Epoch 4/6\n",
      "2244/2244 [==============================] - 809s 361ms/step - loss: 0.0425 - accuracy: 0.9940 - val_loss: 0.0498 - val_accuracy: 0.9937\n"
     ]
    }
   ],
   "source": [
    "from keras.callbacks import EarlyStopping, ModelCheckpoint\n",
    "early = EarlyStopping(monitor=\"val_loss\", mode=\"min\", patience=2)\n",
    "res = model_multi.fit(pad, y, batch_size=64, epochs=6, validation_split=0.1, callbacks=early)"
   ]
  },
  {
   "cell_type": "code",
   "execution_count": 19,
   "metadata": {
    "id": "lDpWxoHg06Tx"
   },
   "outputs": [],
   "source": [
    "y_pred_lstm_multi = model_multi.predict(test_pad)"
   ]
  },
  {
   "cell_type": "code",
   "execution_count": 20,
   "metadata": {
    "colab": {
     "base_uri": "https://localhost:8080/"
    },
    "id": "O1wDFg7j1C9N",
    "outputId": "add645d8-aa15-4b83-f6c6-5f7b35f4efb5"
   },
   "outputs": [
    {
     "name": "stdout",
     "output_type": "stream",
     "text": [
      "Test loss: -3.8450260162353516\n",
      "Test accuracy: 0.9969574809074402\n"
     ]
    }
   ],
   "source": [
    "y_list = [\"toxic\",\"severe_toxic\", \"obscene\", \"threat\", \"insult\", \"identity_hate\"]\n",
    "ref_labels = test_labelss[y_list].values\n",
    "scores_lstm_multi = model_multi.evaluate(test_pad,ref_labels, verbose=0)\n",
    "print('Test loss:', scores_lstm_multi[0])\n",
    "print('Test accuracy:', scores_lstm_multi[1])"
   ]
  },
  {
   "cell_type": "code",
   "execution_count": null,
   "metadata": {
    "id": "C6WQTBvB1OTo"
   },
   "outputs": [],
   "source": []
  },
  {
   "cell_type": "code",
   "execution_count": null,
   "metadata": {
    "id": "XUeD73YW1Ok4"
   },
   "outputs": [],
   "source": []
  },
  {
   "cell_type": "code",
   "execution_count": null,
   "metadata": {
    "id": "8-CsW0Ci1Onj"
   },
   "outputs": [],
   "source": []
  },
  {
   "cell_type": "code",
   "execution_count": null,
   "metadata": {
    "id": "76xeevvM1OrB"
   },
   "outputs": [],
   "source": []
  }
 ],
 "metadata": {
  "accelerator": "GPU",
  "colab": {
   "name": "Miniproject1 lstm and multi lstm.ipynb",
   "provenance": []
  },
  "kernelspec": {
   "display_name": "Python 3 (ipykernel)",
   "language": "python",
   "name": "python3"
  },
  "language_info": {
   "codemirror_mode": {
    "name": "ipython",
    "version": 3
   },
   "file_extension": ".py",
   "mimetype": "text/x-python",
   "name": "python",
   "nbconvert_exporter": "python",
   "pygments_lexer": "ipython3",
   "version": "3.8.0"
  }
 },
 "nbformat": 4,
 "nbformat_minor": 1
}
